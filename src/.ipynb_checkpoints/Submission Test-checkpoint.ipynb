{
 "cells": [
  {
   "cell_type": "code",
   "execution_count": 2,
   "metadata": {},
   "outputs": [],
   "source": [
    "import torch\n",
    "import submit_chexpert as S"
   ]
  },
  {
   "cell_type": "code",
   "execution_count": 6,
   "metadata": {},
   "outputs": [
    {
     "ename": "TypeError",
     "evalue": "run_chexpert() got multiple values for argument 'val'",
     "output_type": "error",
     "traceback": [
      "\u001b[0;31m---------------------------------------------------------------------------\u001b[0m",
      "\u001b[0;31mTypeError\u001b[0m                                 Traceback (most recent call last)",
      "\u001b[0;32m<ipython-input-6-2f16fed72613>\u001b[0m in \u001b[0;36m<module>\u001b[0;34m\u001b[0m\n\u001b[1;32m     15\u001b[0m \u001b[0mPATH_TO_IMAGES\u001b[0m \u001b[0;34m=\u001b[0m \u001b[0;34m\"/home/frank_li_zhou/reproduce-chexnet/submission\"\u001b[0m\u001b[0;34m\u001b[0m\u001b[0m\n\u001b[1;32m     16\u001b[0m \u001b[0mPATH_TO_CSV\u001b[0m \u001b[0;34m=\u001b[0m \u001b[0;34m\"valid_image_paths.csv\"\u001b[0m\u001b[0;34m\u001b[0m\u001b[0m\n\u001b[0;32m---> 17\u001b[0;31m \u001b[0mpred_df\u001b[0m\u001b[0;34m,\u001b[0m \u001b[0mcsv\u001b[0m \u001b[0;34m=\u001b[0m \u001b[0mS\u001b[0m\u001b[0;34m.\u001b[0m\u001b[0mrun_chexpert\u001b[0m\u001b[0;34m(\u001b[0m\u001b[0mPATH_TO_LAT\u001b[0m\u001b[0;34m,\u001b[0m \u001b[0mPATH_TO_PA\u001b[0m\u001b[0;34m,\u001b[0m \u001b[0mPATH_TO_AP\u001b[0m\u001b[0;34m,\u001b[0m \u001b[0mPATH_TO_ORIENT\u001b[0m\u001b[0;34m,\u001b[0m \u001b[0mPATH_TO_IMAGES\u001b[0m\u001b[0;34m,\u001b[0m \u001b[0mPATH_TO_CSV\u001b[0m\u001b[0;34m,\u001b[0m \u001b[0mval\u001b[0m\u001b[0;34m=\u001b[0m\u001b[0;32mFalse\u001b[0m\u001b[0;34m)\u001b[0m\u001b[0;34m\u001b[0m\u001b[0m\n\u001b[0m\u001b[1;32m     18\u001b[0m \u001b[0;34m\u001b[0m\u001b[0m\n\u001b[1;32m     19\u001b[0m \u001b[0;31m#pred_df = pred_df.groupby('Image Index', as_index=False).mean()\u001b[0m\u001b[0;34m\u001b[0m\u001b[0;34m\u001b[0m\u001b[0m\n",
      "\u001b[0;31mTypeError\u001b[0m: run_chexpert() got multiple values for argument 'val'"
     ]
    }
   ],
   "source": [
    "import importlib\n",
    "\n",
    "torch.cuda.empty_cache()\n",
    "\n",
    "importlib.reload(S)\n",
    "\n",
    "#PATH_TO_IMAGES = \"/home/frank_li_zhou/\"\n",
    "#PATH_TO_CSV = \"/home/frank_li_zhou/CheXpert-v1.0/\"\n",
    "\n",
    "PATH_TO_IMAGES = \"/home/frank_li_zhou/reproduce-chexnet/submission\"\n",
    "PATH_TO_CSV = \"valid_image_paths.csv\"\n",
    "pred_df, csv = S.run_chexpert(PATH_TO_IMAGES, PATH_TO_CSV, val=False)\n",
    "\n",
    "#pred_df = pred_df.groupby('Image Index', as_index=False).mean()\n",
    "#print(pred_df.to_csv(header=True, index=False))\n",
    "\n",
    "print(csv)"
   ]
  },
  {
   "cell_type": "code",
   "execution_count": null,
   "metadata": {},
   "outputs": [],
   "source": []
  }
 ],
 "metadata": {
  "kernelspec": {
   "display_name": "Python 3",
   "language": "python",
   "name": "python3"
  },
  "language_info": {
   "codemirror_mode": {
    "name": "ipython",
    "version": 3
   },
   "file_extension": ".py",
   "mimetype": "text/x-python",
   "name": "python",
   "nbconvert_exporter": "python",
   "pygments_lexer": "ipython3",
   "version": "3.6.5"
  }
 },
 "nbformat": 4,
 "nbformat_minor": 2
}
