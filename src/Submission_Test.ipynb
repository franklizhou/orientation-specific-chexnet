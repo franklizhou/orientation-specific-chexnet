{
 "cells": [
  {
   "cell_type": "code",
   "execution_count": 1,
   "metadata": {},
   "outputs": [],
   "source": [
    "import torch\n",
    "import run_chexpert as R"
   ]
  },
  {
   "cell_type": "code",
   "execution_count": 4,
   "metadata": {},
   "outputs": [
    {
     "name": "stderr",
     "output_type": "stream",
     "text": [
      "/opt/anaconda3/envs/reproduce-chexnet/lib/python3.6/site-packages/torch/nn/modules/container.py:91: UserWarning: Implicit dimension choice for softmax has been deprecated. Change the call to include dim=X as an argument.\n",
      "  input = module(input)\n"
     ]
    },
    {
     "data": {
      "text/plain": [
       "(                                     Study  Atelectasis  Cardiomegaly  \\\n",
       " 0  CheXpert-v1.0/valid/patient00000/study1     0.018568      0.200628   \n",
       " 1  CheXpert-v1.0/valid/patient00000/study2     0.119924      0.913567   \n",
       " \n",
       "    Consolidation    Edema  Pleural Effusion  \n",
       " 0       0.027821  0.01034          0.057092  \n",
       " 1       0.119621  0.09563          0.604209  ,\n",
       " 'Study,Atelectasis,Cardiomegaly,Consolidation,Edema,Pleural Effusion\\nCheXpert-v1.0/valid/patient00000/study1,0.01856817537918687,0.20062760636210442,0.02782135969027877,0.010340397653635591,0.057092403061687946\\nCheXpert-v1.0/valid/patient00000/study2,0.1199241355061531,0.9135668873786926,0.11962051689624786,0.09562999755144119,0.6042094230651855\\n')"
      ]
     },
     "execution_count": 4,
     "metadata": {},
     "output_type": "execute_result"
    }
   ],
   "source": [
    "PATH_TO_IMAGES = \"\"\n",
    "PATH_TO_CSV = \"valid_image_paths.csv\"\n",
    "\n",
    "R.run_chexpert(PATH_TO_IMAGES, PATH_TO_CSV, val=False)"
   ]
  },
  {
   "cell_type": "code",
   "execution_count": null,
   "metadata": {},
   "outputs": [],
   "source": []
  }
 ],
 "metadata": {
  "kernelspec": {
   "display_name": "Python 3",
   "language": "python",
   "name": "python3"
  },
  "language_info": {
   "codemirror_mode": {
    "name": "ipython",
    "version": 3
   },
   "file_extension": ".py",
   "mimetype": "text/x-python",
   "name": "python",
   "nbconvert_exporter": "python",
   "pygments_lexer": "ipython3",
   "version": "3.6.5"
  }
 },
 "nbformat": 4,
 "nbformat_minor": 2
}
